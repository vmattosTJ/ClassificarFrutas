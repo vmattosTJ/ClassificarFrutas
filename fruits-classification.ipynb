{
 "cells": [
  {
   "cell_type": "code",
   "execution_count": 315,
   "metadata": {
    "_cell_guid": "b1076dfc-b9ad-4769-8c92-a6c4dae69d19",
    "_uuid": "8f2839f25d086af736a60e9eeb907d3b93b6e0e5",
    "execution": {
     "iopub.execute_input": "2020-08-07T08:51:45.620949Z",
     "iopub.status.busy": "2020-08-07T08:51:45.620336Z",
     "iopub.status.idle": "2020-08-07T08:52:00.244033Z",
     "shell.execute_reply": "2020-08-07T08:52:00.245037Z"
    },
    "papermill": {
     "duration": 14.645631,
     "end_time": "2020-08-07T08:52:00.245394",
     "exception": false,
     "start_time": "2020-08-07T08:51:45.599763",
     "status": "completed"
    },
    "tags": []
   },
   "outputs": [],
   "source": [
    "# This Python 3 environment comes with many helpful analytics libraries installed\n",
    "# It is defined by the kaggle/python Docker image: https://github.com/kaggle/docker-python\n",
    "# For example, here's several helpful packages to load\n",
    "\n",
    "import numpy as np # linear algebra\n",
    "import pandas as pd # data processing, CSV file I/O (e.g. pd.read_csv)\n",
    "\n",
    "# Input data files are available in the read-only \"../input/\" directory\n",
    "# For example, running this (by clicking run or pressing Shift+Enter) will list all files under the input directory\n",
    "\n",
    "import os\n",
    "for dirname, _, filenames in os.walk('/kaggle/input'):\n",
    "    for filename in filenames:\n",
    "        print(os.path.join(dirname, filename))\n",
    "\n",
    "# You can write up to 5GB to the current directory (/kaggle/working/) that gets preserved as output when you create a version using \"Save & Run All\" \n",
    "# You can also write temporary files to /kaggle/temp/, but they won't be saved outside of the current session"
   ]
  },
  {
   "cell_type": "code",
   "execution_count": 316,
   "metadata": {
    "_cell_guid": "79c7e3d0-c299-4dcb-8224-4455121ee9b0",
    "_uuid": "d629ff2d2480ee46fbb7e2d37f6b5fab8052498a",
    "execution": {
     "iopub.execute_input": "2020-08-07T08:52:00.902792Z",
     "iopub.status.busy": "2020-08-07T08:52:00.901701Z",
     "iopub.status.idle": "2020-08-07T08:52:04.626586Z",
     "shell.execute_reply": "2020-08-07T08:52:04.627479Z"
    },
    "papermill": {
     "duration": 4.033717,
     "end_time": "2020-08-07T08:52:04.627715",
     "exception": false,
     "start_time": "2020-08-07T08:52:00.593998",
     "status": "completed"
    },
    "tags": []
   },
   "outputs": [],
   "source": [
    "#imported libraries\n",
    "import numpy as np\n",
    "import os\n",
    "import matplotlib.pyplot as plt\n",
    "import seaborn as sns\n",
    "import copy\n",
    "from PIL import Image\n",
    "\n",
    "import torch\n",
    "import torch.nn as nn\n",
    "import torchvision\n",
    "import torchvision.datasets as datasets\n",
    "import torchvision.models as models\n",
    "import torchvision.transforms as transforms"
   ]
  },
  {
   "cell_type": "code",
   "execution_count": 317,
   "metadata": {
    "execution": {
     "iopub.execute_input": "2020-08-07T08:52:05.710681Z",
     "iopub.status.busy": "2020-08-07T08:52:05.709468Z",
     "iopub.status.idle": "2020-08-07T08:52:05.715488Z",
     "shell.execute_reply": "2020-08-07T08:52:05.716310Z"
    },
    "papermill": {
     "duration": 0.766495,
     "end_time": "2020-08-07T08:52:05.716522",
     "exception": false,
     "start_time": "2020-08-07T08:52:04.950027",
     "status": "completed"
    },
    "tags": []
   },
   "outputs": [
    {
     "name": "stdout",
     "output_type": "stream",
     "text": [
      "cpu\n"
     ]
    }
   ],
   "source": [
    "device = torch.device(\"cuda:0\" if torch.cuda.is_available() else \"cpu\")\n",
    "print(device)"
   ]
  },
  {
   "cell_type": "code",
   "execution_count": 318,
   "metadata": {
    "execution": {
     "iopub.execute_input": "2020-08-07T08:52:06.347966Z",
     "iopub.status.busy": "2020-08-07T08:52:06.346366Z",
     "iopub.status.idle": "2020-08-07T08:52:06.348800Z",
     "shell.execute_reply": "2020-08-07T08:52:06.347166Z"
    },
    "papermill": {
     "duration": 0.330178,
     "end_time": "2020-08-07T08:52:06.348962",
     "exception": false,
     "start_time": "2020-08-07T08:52:06.018784",
     "status": "completed"
    },
    "tags": []
   },
   "outputs": [],
   "source": [
    "#resizing image as per reqyirements of resnet\n",
    "from torchvision import transforms\n",
    "transform = transforms.Compose([\n",
    "    transforms.Resize(256),\n",
    "    transforms.CenterCrop(224),\n",
    "    transforms.ToTensor(),\n",
    "    transforms.Normalize(mean=[0.485, 0.456, 0.406], std=[0.229, 0.224, 0.225]),\n",
    "])"
   ]
  },
  {
   "cell_type": "code",
   "execution_count": 319,
   "metadata": {
    "execution": {
     "iopub.execute_input": "2020-08-07T08:52:07.011648Z",
     "iopub.status.busy": "2020-08-07T08:52:07.007978Z",
     "iopub.status.idle": "2020-08-07T08:52:07.017219Z",
     "shell.execute_reply": "2020-08-07T08:52:07.016415Z"
    },
    "papermill": {
     "duration": 0.334515,
     "end_time": "2020-08-07T08:52:07.017377",
     "exception": false,
     "start_time": "2020-08-07T08:52:06.682862",
     "status": "completed"
    },
    "tags": []
   },
   "outputs": [
    {
     "name": "stdout",
     "output_type": "stream",
     "text": [
      "25\n"
     ]
    }
   ],
   "source": [
    "DIR_TRAIN = \"./Training/\"\n",
    "DIR_TEST = \"./Test\"\n",
    "classes_train = os.listdir(DIR_TRAIN)\n",
    "classes_test = os.listdir(DIR_TEST)\n",
    "print(len(classes_test))"
   ]
  },
  {
   "cell_type": "code",
   "execution_count": 320,
   "metadata": {
    "execution": {
     "iopub.execute_input": "2020-08-07T08:52:07.648379Z",
     "iopub.status.busy": "2020-08-07T08:52:07.646619Z",
     "iopub.status.idle": "2020-08-07T08:52:07.649392Z",
     "shell.execute_reply": "2020-08-07T08:52:07.647475Z"
    },
    "papermill": {
     "duration": 0.320507,
     "end_time": "2020-08-07T08:52:07.649560",
     "exception": false,
     "start_time": "2020-08-07T08:52:07.329053",
     "status": "completed"
    },
    "tags": []
   },
   "outputs": [],
   "source": [
    "classes = sorted(classes_train)"
   ]
  },
  {
   "cell_type": "code",
   "execution_count": 321,
   "metadata": {
    "execution": {
     "iopub.execute_input": "2020-08-07T08:52:08.294132Z",
     "iopub.status.busy": "2020-08-07T08:52:08.293301Z",
     "iopub.status.idle": "2020-08-07T08:52:08.972984Z",
     "shell.execute_reply": "2020-08-07T08:52:08.973640Z"
    },
    "papermill": {
     "duration": 1.006408,
     "end_time": "2020-08-07T08:52:08.973804",
     "exception": false,
     "start_time": "2020-08-07T08:52:07.967396",
     "status": "completed"
    },
    "tags": []
   },
   "outputs": [],
   "source": [
    "trainset = torchvision.datasets.ImageFolder(root='./Training', transform=transform)\n",
    "testset = torchvision.datasets.ImageFolder(root='./Test', transform=transform)"
   ]
  },
  {
   "cell_type": "code",
   "execution_count": 322,
   "metadata": {
    "execution": {
     "iopub.execute_input": "2020-08-07T08:52:09.593182Z",
     "iopub.status.busy": "2020-08-07T08:52:09.592136Z",
     "iopub.status.idle": "2020-08-07T08:52:09.596553Z",
     "shell.execute_reply": "2020-08-07T08:52:09.597412Z"
    },
    "papermill": {
     "duration": 0.321031,
     "end_time": "2020-08-07T08:52:09.597620",
     "exception": false,
     "start_time": "2020-08-07T08:52:09.276589",
     "status": "completed"
    },
    "tags": []
   },
   "outputs": [],
   "source": [
    "batch_size = 128\n",
    "trainloader = torch.utils.data.DataLoader(trainset, batch_size=batch_size, shuffle=True)\n",
    "testloader = torch.utils.data.DataLoader(testset, batch_size=batch_size, shuffle=True)"
   ]
  },
  {
   "cell_type": "code",
   "execution_count": 323,
   "metadata": {
    "execution": {
     "iopub.execute_input": "2020-08-07T08:52:10.319355Z",
     "iopub.status.busy": "2020-08-07T08:52:10.318085Z",
     "iopub.status.idle": "2020-08-07T08:52:10.510294Z",
     "shell.execute_reply": "2020-08-07T08:52:10.511388Z"
    },
    "papermill": {
     "duration": 0.601008,
     "end_time": "2020-08-07T08:52:10.511573",
     "exception": false,
     "start_time": "2020-08-07T08:52:09.910565",
     "status": "completed"
    },
    "tags": []
   },
   "outputs": [
    {
     "name": "stdout",
     "output_type": "stream",
     "text": [
      "torch.Size([128, 3, 224, 224])\n",
      "torch.Size([3, 224, 224])\n",
      "torch.Size([128])\n"
     ]
    }
   ],
   "source": [
    "dataiter = iter(trainloader)\n",
    "images, labels = next(dataiter)\n",
    "\n",
    "print(images.shape)\n",
    "print(images[0].shape)\n",
    "print(labels.shape)"
   ]
  },
  {
   "cell_type": "code",
   "execution_count": 324,
   "metadata": {
    "execution": {
     "iopub.execute_input": "2020-08-07T08:52:11.115034Z",
     "iopub.status.busy": "2020-08-07T08:52:11.113897Z",
     "iopub.status.idle": "2020-08-07T08:52:16.341606Z",
     "shell.execute_reply": "2020-08-07T08:52:16.342950Z"
    },
    "papermill": {
     "duration": 5.539098,
     "end_time": "2020-08-07T08:52:16.343256",
     "exception": false,
     "start_time": "2020-08-07T08:52:10.804158",
     "status": "completed"
    },
    "tags": []
   },
   "outputs": [],
   "source": [
    "model = models.resnet50(pretrained = True)"
   ]
  },
  {
   "cell_type": "code",
   "execution_count": 325,
   "metadata": {
    "execution": {
     "iopub.execute_input": "2020-08-07T08:52:17.003227Z",
     "iopub.status.busy": "2020-08-07T08:52:17.002156Z",
     "iopub.status.idle": "2020-08-07T08:52:17.013272Z",
     "shell.execute_reply": "2020-08-07T08:52:17.014061Z"
    },
    "papermill": {
     "duration": 0.357046,
     "end_time": "2020-08-07T08:52:17.014299",
     "exception": false,
     "start_time": "2020-08-07T08:52:16.657253",
     "status": "completed"
    },
    "tags": []
   },
   "outputs": [
    {
     "name": "stdout",
     "output_type": "stream",
     "text": [
      "ResNet(\n",
      "  (conv1): Conv2d(3, 64, kernel_size=(7, 7), stride=(2, 2), padding=(3, 3), bias=False)\n",
      "  (bn1): BatchNorm2d(64, eps=1e-05, momentum=0.1, affine=True, track_running_stats=True)\n",
      "  (relu): ReLU(inplace=True)\n",
      "  (maxpool): MaxPool2d(kernel_size=3, stride=2, padding=1, dilation=1, ceil_mode=False)\n",
      "  (layer1): Sequential(\n",
      "    (0): Bottleneck(\n",
      "      (conv1): Conv2d(64, 64, kernel_size=(1, 1), stride=(1, 1), bias=False)\n",
      "      (bn1): BatchNorm2d(64, eps=1e-05, momentum=0.1, affine=True, track_running_stats=True)\n",
      "      (conv2): Conv2d(64, 64, kernel_size=(3, 3), stride=(1, 1), padding=(1, 1), bias=False)\n",
      "      (bn2): BatchNorm2d(64, eps=1e-05, momentum=0.1, affine=True, track_running_stats=True)\n",
      "      (conv3): Conv2d(64, 256, kernel_size=(1, 1), stride=(1, 1), bias=False)\n",
      "      (bn3): BatchNorm2d(256, eps=1e-05, momentum=0.1, affine=True, track_running_stats=True)\n",
      "      (relu): ReLU(inplace=True)\n",
      "      (downsample): Sequential(\n",
      "        (0): Conv2d(64, 256, kernel_size=(1, 1), stride=(1, 1), bias=False)\n",
      "        (1): BatchNorm2d(256, eps=1e-05, momentum=0.1, affine=True, track_running_stats=True)\n",
      "      )\n",
      "    )\n",
      "    (1): Bottleneck(\n",
      "      (conv1): Conv2d(256, 64, kernel_size=(1, 1), stride=(1, 1), bias=False)\n",
      "      (bn1): BatchNorm2d(64, eps=1e-05, momentum=0.1, affine=True, track_running_stats=True)\n",
      "      (conv2): Conv2d(64, 64, kernel_size=(3, 3), stride=(1, 1), padding=(1, 1), bias=False)\n",
      "      (bn2): BatchNorm2d(64, eps=1e-05, momentum=0.1, affine=True, track_running_stats=True)\n",
      "      (conv3): Conv2d(64, 256, kernel_size=(1, 1), stride=(1, 1), bias=False)\n",
      "      (bn3): BatchNorm2d(256, eps=1e-05, momentum=0.1, affine=True, track_running_stats=True)\n",
      "      (relu): ReLU(inplace=True)\n",
      "    )\n",
      "    (2): Bottleneck(\n",
      "      (conv1): Conv2d(256, 64, kernel_size=(1, 1), stride=(1, 1), bias=False)\n",
      "      (bn1): BatchNorm2d(64, eps=1e-05, momentum=0.1, affine=True, track_running_stats=True)\n",
      "      (conv2): Conv2d(64, 64, kernel_size=(3, 3), stride=(1, 1), padding=(1, 1), bias=False)\n",
      "      (bn2): BatchNorm2d(64, eps=1e-05, momentum=0.1, affine=True, track_running_stats=True)\n",
      "      (conv3): Conv2d(64, 256, kernel_size=(1, 1), stride=(1, 1), bias=False)\n",
      "      (bn3): BatchNorm2d(256, eps=1e-05, momentum=0.1, affine=True, track_running_stats=True)\n",
      "      (relu): ReLU(inplace=True)\n",
      "    )\n",
      "  )\n",
      "  (layer2): Sequential(\n",
      "    (0): Bottleneck(\n",
      "      (conv1): Conv2d(256, 128, kernel_size=(1, 1), stride=(1, 1), bias=False)\n",
      "      (bn1): BatchNorm2d(128, eps=1e-05, momentum=0.1, affine=True, track_running_stats=True)\n",
      "      (conv2): Conv2d(128, 128, kernel_size=(3, 3), stride=(2, 2), padding=(1, 1), bias=False)\n",
      "      (bn2): BatchNorm2d(128, eps=1e-05, momentum=0.1, affine=True, track_running_stats=True)\n",
      "      (conv3): Conv2d(128, 512, kernel_size=(1, 1), stride=(1, 1), bias=False)\n",
      "      (bn3): BatchNorm2d(512, eps=1e-05, momentum=0.1, affine=True, track_running_stats=True)\n",
      "      (relu): ReLU(inplace=True)\n",
      "      (downsample): Sequential(\n",
      "        (0): Conv2d(256, 512, kernel_size=(1, 1), stride=(2, 2), bias=False)\n",
      "        (1): BatchNorm2d(512, eps=1e-05, momentum=0.1, affine=True, track_running_stats=True)\n",
      "      )\n",
      "    )\n",
      "    (1): Bottleneck(\n",
      "      (conv1): Conv2d(512, 128, kernel_size=(1, 1), stride=(1, 1), bias=False)\n",
      "      (bn1): BatchNorm2d(128, eps=1e-05, momentum=0.1, affine=True, track_running_stats=True)\n",
      "      (conv2): Conv2d(128, 128, kernel_size=(3, 3), stride=(1, 1), padding=(1, 1), bias=False)\n",
      "      (bn2): BatchNorm2d(128, eps=1e-05, momentum=0.1, affine=True, track_running_stats=True)\n",
      "      (conv3): Conv2d(128, 512, kernel_size=(1, 1), stride=(1, 1), bias=False)\n",
      "      (bn3): BatchNorm2d(512, eps=1e-05, momentum=0.1, affine=True, track_running_stats=True)\n",
      "      (relu): ReLU(inplace=True)\n",
      "    )\n",
      "    (2): Bottleneck(\n",
      "      (conv1): Conv2d(512, 128, kernel_size=(1, 1), stride=(1, 1), bias=False)\n",
      "      (bn1): BatchNorm2d(128, eps=1e-05, momentum=0.1, affine=True, track_running_stats=True)\n",
      "      (conv2): Conv2d(128, 128, kernel_size=(3, 3), stride=(1, 1), padding=(1, 1), bias=False)\n",
      "      (bn2): BatchNorm2d(128, eps=1e-05, momentum=0.1, affine=True, track_running_stats=True)\n",
      "      (conv3): Conv2d(128, 512, kernel_size=(1, 1), stride=(1, 1), bias=False)\n",
      "      (bn3): BatchNorm2d(512, eps=1e-05, momentum=0.1, affine=True, track_running_stats=True)\n",
      "      (relu): ReLU(inplace=True)\n",
      "    )\n",
      "    (3): Bottleneck(\n",
      "      (conv1): Conv2d(512, 128, kernel_size=(1, 1), stride=(1, 1), bias=False)\n",
      "      (bn1): BatchNorm2d(128, eps=1e-05, momentum=0.1, affine=True, track_running_stats=True)\n",
      "      (conv2): Conv2d(128, 128, kernel_size=(3, 3), stride=(1, 1), padding=(1, 1), bias=False)\n",
      "      (bn2): BatchNorm2d(128, eps=1e-05, momentum=0.1, affine=True, track_running_stats=True)\n",
      "      (conv3): Conv2d(128, 512, kernel_size=(1, 1), stride=(1, 1), bias=False)\n",
      "      (bn3): BatchNorm2d(512, eps=1e-05, momentum=0.1, affine=True, track_running_stats=True)\n",
      "      (relu): ReLU(inplace=True)\n",
      "    )\n",
      "  )\n",
      "  (layer3): Sequential(\n",
      "    (0): Bottleneck(\n",
      "      (conv1): Conv2d(512, 256, kernel_size=(1, 1), stride=(1, 1), bias=False)\n",
      "      (bn1): BatchNorm2d(256, eps=1e-05, momentum=0.1, affine=True, track_running_stats=True)\n",
      "      (conv2): Conv2d(256, 256, kernel_size=(3, 3), stride=(2, 2), padding=(1, 1), bias=False)\n",
      "      (bn2): BatchNorm2d(256, eps=1e-05, momentum=0.1, affine=True, track_running_stats=True)\n",
      "      (conv3): Conv2d(256, 1024, kernel_size=(1, 1), stride=(1, 1), bias=False)\n",
      "      (bn3): BatchNorm2d(1024, eps=1e-05, momentum=0.1, affine=True, track_running_stats=True)\n",
      "      (relu): ReLU(inplace=True)\n",
      "      (downsample): Sequential(\n",
      "        (0): Conv2d(512, 1024, kernel_size=(1, 1), stride=(2, 2), bias=False)\n",
      "        (1): BatchNorm2d(1024, eps=1e-05, momentum=0.1, affine=True, track_running_stats=True)\n",
      "      )\n",
      "    )\n",
      "    (1): Bottleneck(\n",
      "      (conv1): Conv2d(1024, 256, kernel_size=(1, 1), stride=(1, 1), bias=False)\n",
      "      (bn1): BatchNorm2d(256, eps=1e-05, momentum=0.1, affine=True, track_running_stats=True)\n",
      "      (conv2): Conv2d(256, 256, kernel_size=(3, 3), stride=(1, 1), padding=(1, 1), bias=False)\n",
      "      (bn2): BatchNorm2d(256, eps=1e-05, momentum=0.1, affine=True, track_running_stats=True)\n",
      "      (conv3): Conv2d(256, 1024, kernel_size=(1, 1), stride=(1, 1), bias=False)\n",
      "      (bn3): BatchNorm2d(1024, eps=1e-05, momentum=0.1, affine=True, track_running_stats=True)\n",
      "      (relu): ReLU(inplace=True)\n",
      "    )\n",
      "    (2): Bottleneck(\n",
      "      (conv1): Conv2d(1024, 256, kernel_size=(1, 1), stride=(1, 1), bias=False)\n",
      "      (bn1): BatchNorm2d(256, eps=1e-05, momentum=0.1, affine=True, track_running_stats=True)\n",
      "      (conv2): Conv2d(256, 256, kernel_size=(3, 3), stride=(1, 1), padding=(1, 1), bias=False)\n",
      "      (bn2): BatchNorm2d(256, eps=1e-05, momentum=0.1, affine=True, track_running_stats=True)\n",
      "      (conv3): Conv2d(256, 1024, kernel_size=(1, 1), stride=(1, 1), bias=False)\n",
      "      (bn3): BatchNorm2d(1024, eps=1e-05, momentum=0.1, affine=True, track_running_stats=True)\n",
      "      (relu): ReLU(inplace=True)\n",
      "    )\n",
      "    (3): Bottleneck(\n",
      "      (conv1): Conv2d(1024, 256, kernel_size=(1, 1), stride=(1, 1), bias=False)\n",
      "      (bn1): BatchNorm2d(256, eps=1e-05, momentum=0.1, affine=True, track_running_stats=True)\n",
      "      (conv2): Conv2d(256, 256, kernel_size=(3, 3), stride=(1, 1), padding=(1, 1), bias=False)\n",
      "      (bn2): BatchNorm2d(256, eps=1e-05, momentum=0.1, affine=True, track_running_stats=True)\n",
      "      (conv3): Conv2d(256, 1024, kernel_size=(1, 1), stride=(1, 1), bias=False)\n",
      "      (bn3): BatchNorm2d(1024, eps=1e-05, momentum=0.1, affine=True, track_running_stats=True)\n",
      "      (relu): ReLU(inplace=True)\n",
      "    )\n",
      "    (4): Bottleneck(\n",
      "      (conv1): Conv2d(1024, 256, kernel_size=(1, 1), stride=(1, 1), bias=False)\n",
      "      (bn1): BatchNorm2d(256, eps=1e-05, momentum=0.1, affine=True, track_running_stats=True)\n",
      "      (conv2): Conv2d(256, 256, kernel_size=(3, 3), stride=(1, 1), padding=(1, 1), bias=False)\n",
      "      (bn2): BatchNorm2d(256, eps=1e-05, momentum=0.1, affine=True, track_running_stats=True)\n",
      "      (conv3): Conv2d(256, 1024, kernel_size=(1, 1), stride=(1, 1), bias=False)\n",
      "      (bn3): BatchNorm2d(1024, eps=1e-05, momentum=0.1, affine=True, track_running_stats=True)\n",
      "      (relu): ReLU(inplace=True)\n",
      "    )\n",
      "    (5): Bottleneck(\n",
      "      (conv1): Conv2d(1024, 256, kernel_size=(1, 1), stride=(1, 1), bias=False)\n",
      "      (bn1): BatchNorm2d(256, eps=1e-05, momentum=0.1, affine=True, track_running_stats=True)\n",
      "      (conv2): Conv2d(256, 256, kernel_size=(3, 3), stride=(1, 1), padding=(1, 1), bias=False)\n",
      "      (bn2): BatchNorm2d(256, eps=1e-05, momentum=0.1, affine=True, track_running_stats=True)\n",
      "      (conv3): Conv2d(256, 1024, kernel_size=(1, 1), stride=(1, 1), bias=False)\n",
      "      (bn3): BatchNorm2d(1024, eps=1e-05, momentum=0.1, affine=True, track_running_stats=True)\n",
      "      (relu): ReLU(inplace=True)\n",
      "    )\n",
      "  )\n",
      "  (layer4): Sequential(\n",
      "    (0): Bottleneck(\n",
      "      (conv1): Conv2d(1024, 512, kernel_size=(1, 1), stride=(1, 1), bias=False)\n",
      "      (bn1): BatchNorm2d(512, eps=1e-05, momentum=0.1, affine=True, track_running_stats=True)\n",
      "      (conv2): Conv2d(512, 512, kernel_size=(3, 3), stride=(2, 2), padding=(1, 1), bias=False)\n",
      "      (bn2): BatchNorm2d(512, eps=1e-05, momentum=0.1, affine=True, track_running_stats=True)\n",
      "      (conv3): Conv2d(512, 2048, kernel_size=(1, 1), stride=(1, 1), bias=False)\n",
      "      (bn3): BatchNorm2d(2048, eps=1e-05, momentum=0.1, affine=True, track_running_stats=True)\n",
      "      (relu): ReLU(inplace=True)\n",
      "      (downsample): Sequential(\n",
      "        (0): Conv2d(1024, 2048, kernel_size=(1, 1), stride=(2, 2), bias=False)\n",
      "        (1): BatchNorm2d(2048, eps=1e-05, momentum=0.1, affine=True, track_running_stats=True)\n",
      "      )\n",
      "    )\n",
      "    (1): Bottleneck(\n",
      "      (conv1): Conv2d(2048, 512, kernel_size=(1, 1), stride=(1, 1), bias=False)\n",
      "      (bn1): BatchNorm2d(512, eps=1e-05, momentum=0.1, affine=True, track_running_stats=True)\n",
      "      (conv2): Conv2d(512, 512, kernel_size=(3, 3), stride=(1, 1), padding=(1, 1), bias=False)\n",
      "      (bn2): BatchNorm2d(512, eps=1e-05, momentum=0.1, affine=True, track_running_stats=True)\n",
      "      (conv3): Conv2d(512, 2048, kernel_size=(1, 1), stride=(1, 1), bias=False)\n",
      "      (bn3): BatchNorm2d(2048, eps=1e-05, momentum=0.1, affine=True, track_running_stats=True)\n",
      "      (relu): ReLU(inplace=True)\n",
      "    )\n",
      "    (2): Bottleneck(\n",
      "      (conv1): Conv2d(2048, 512, kernel_size=(1, 1), stride=(1, 1), bias=False)\n",
      "      (bn1): BatchNorm2d(512, eps=1e-05, momentum=0.1, affine=True, track_running_stats=True)\n",
      "      (conv2): Conv2d(512, 512, kernel_size=(3, 3), stride=(1, 1), padding=(1, 1), bias=False)\n",
      "      (bn2): BatchNorm2d(512, eps=1e-05, momentum=0.1, affine=True, track_running_stats=True)\n",
      "      (conv3): Conv2d(512, 2048, kernel_size=(1, 1), stride=(1, 1), bias=False)\n",
      "      (bn3): BatchNorm2d(2048, eps=1e-05, momentum=0.1, affine=True, track_running_stats=True)\n",
      "      (relu): ReLU(inplace=True)\n",
      "    )\n",
      "  )\n",
      "  (avgpool): AdaptiveAvgPool2d(output_size=(1, 1))\n",
      "  (fc): Linear(in_features=2048, out_features=1000, bias=True)\n",
      ")\n"
     ]
    }
   ],
   "source": [
    "print(model)"
   ]
  },
  {
   "cell_type": "code",
   "execution_count": 326,
   "metadata": {
    "execution": {
     "iopub.execute_input": "2020-08-07T08:52:17.728768Z",
     "iopub.status.busy": "2020-08-07T08:52:17.727655Z",
     "iopub.status.idle": "2020-08-07T08:52:17.733218Z",
     "shell.execute_reply": "2020-08-07T08:52:17.734046Z"
    },
    "papermill": {
     "duration": 0.346443,
     "end_time": "2020-08-07T08:52:17.734309",
     "exception": false,
     "start_time": "2020-08-07T08:52:17.387866",
     "status": "completed"
    },
    "tags": []
   },
   "outputs": [],
   "source": [
    "for p in model.parameters():\n",
    "    p.requires_grad = False"
   ]
  },
  {
   "cell_type": "code",
   "execution_count": 327,
   "metadata": {
    "execution": {
     "iopub.execute_input": "2020-08-07T08:52:18.423014Z",
     "iopub.status.busy": "2020-08-07T08:52:18.422151Z",
     "iopub.status.idle": "2020-08-07T08:52:18.452120Z",
     "shell.execute_reply": "2020-08-07T08:52:18.453085Z"
    },
    "papermill": {
     "duration": 0.345032,
     "end_time": "2020-08-07T08:52:18.453307",
     "exception": false,
     "start_time": "2020-08-07T08:52:18.108275",
     "status": "completed"
    },
    "tags": []
   },
   "outputs": [],
   "source": [
    "#changed last sequential layer of model\n",
    "model.fc = nn.Sequential(nn.Linear(2048, 1024),\n",
    "                           nn.ReLU(),\n",
    "                           nn.Linear(1024, 512),\n",
    "                           nn.ReLU(),\n",
    "                           nn.Linear(512, 131),\n",
    "                           nn.LogSoftmax(dim=1))"
   ]
  },
  {
   "cell_type": "code",
   "execution_count": 328,
   "metadata": {
    "execution": {
     "iopub.execute_input": "2020-08-07T08:52:19.064296Z",
     "iopub.status.busy": "2020-08-07T08:52:19.063230Z",
     "iopub.status.idle": "2020-08-07T08:52:24.982008Z",
     "shell.execute_reply": "2020-08-07T08:52:24.982558Z"
    },
    "papermill": {
     "duration": 6.238237,
     "end_time": "2020-08-07T08:52:24.982732",
     "exception": false,
     "start_time": "2020-08-07T08:52:18.744495",
     "status": "completed"
    },
    "tags": []
   },
   "outputs": [],
   "source": [
    "model = model.to(device)"
   ]
  },
  {
   "cell_type": "code",
   "execution_count": 329,
   "metadata": {
    "execution": {
     "iopub.execute_input": "2020-08-07T08:52:25.386096Z",
     "iopub.status.busy": "2020-08-07T08:52:25.384215Z",
     "iopub.status.idle": "2020-08-07T08:52:25.386816Z",
     "shell.execute_reply": "2020-08-07T08:52:25.387315Z"
    },
    "papermill": {
     "duration": 0.209437,
     "end_time": "2020-08-07T08:52:25.387459",
     "exception": false,
     "start_time": "2020-08-07T08:52:25.178022",
     "status": "completed"
    },
    "tags": []
   },
   "outputs": [],
   "source": [
    "import torch.optim as optim\n",
    "loss_fn = nn.NLLLoss()\n",
    "opt = optim.Adam(model.parameters(), lr = 0.001)"
   ]
  },
  {
   "cell_type": "code",
   "execution_count": 330,
   "metadata": {
    "execution": {
     "iopub.execute_input": "2020-08-07T08:52:25.810070Z",
     "iopub.status.busy": "2020-08-07T08:52:25.809121Z",
     "iopub.status.idle": "2020-08-07T08:52:25.811780Z",
     "shell.execute_reply": "2020-08-07T08:52:25.812251Z"
    },
    "papermill": {
     "duration": 0.207881,
     "end_time": "2020-08-07T08:52:25.812416",
     "exception": false,
     "start_time": "2020-08-07T08:52:25.604535",
     "status": "completed"
    },
    "tags": []
   },
   "outputs": [],
   "source": [
    "def evaluation(dataloader):\n",
    "    total, correct = 0, 0\n",
    "    model.eval()\n",
    "    for data in dataloader:\n",
    "        inputs, labels = data\n",
    "        inputs = inputs.to(device)\n",
    "        labels = labels.to(device)\n",
    "        outputs = model(inputs)\n",
    "        _, pred = torch.max(outputs.data, 1)\n",
    "        total += labels.size(0)\n",
    "        correct += (pred == labels).sum().item()\n",
    "    return 100 * correct / total"
   ]
  },
  {
   "cell_type": "code",
   "execution_count": 331,
   "metadata": {
    "execution": {
     "iopub.execute_input": "2020-08-07T08:52:26.217245Z",
     "iopub.status.busy": "2020-08-07T08:52:26.216359Z",
     "iopub.status.idle": "2020-08-07T09:18:36.756387Z",
     "shell.execute_reply": "2020-08-07T09:18:36.755716Z"
    },
    "papermill": {
     "duration": 1570.750837,
     "end_time": "2020-08-07T09:18:36.756535",
     "exception": false,
     "start_time": "2020-08-07T08:52:26.005698",
     "status": "completed"
    },
    "tags": []
   },
   "outputs": [
    {
     "name": "stdout",
     "output_type": "stream",
     "text": [
      "Min loss 4.88\n",
      "Iteration: 0/391, Loss: 4.88\n",
      "Min loss 4.32\n",
      "Min loss 3.46\n",
      "Min loss 3.05\n",
      "Min loss 2.76\n",
      "Min loss 2.74\n",
      "Min loss 2.31\n",
      "Min loss 1.97\n",
      "Min loss 1.70\n",
      "Min loss 1.46\n",
      "Min loss 1.19\n",
      "Min loss 1.03\n",
      "Min loss 0.91\n",
      "Min loss 0.81\n",
      "Min loss 0.63\n",
      "Min loss 0.51\n",
      "Min loss 0.38\n",
      "Min loss 0.32\n",
      "Min loss 0.26\n",
      "Min loss 0.26\n",
      "Min loss 0.21\n",
      "Min loss 0.16\n",
      "Min loss 0.16\n",
      "Min loss 0.13\n",
      "Min loss 0.12\n",
      "Min loss 0.11\n",
      "Min loss 0.08\n",
      "Min loss 0.08\n",
      "Min loss 0.07\n",
      "Min loss 0.04\n",
      "Min loss 0.04\n",
      "Min loss 0.03\n",
      "Min loss 0.02\n",
      "Min loss 0.02\n",
      "Min loss 0.02\n",
      "Epoch: 1/2, Test acc: 97.67, Train acc: 99.86\n",
      "Iteration: 0/391, Loss: 0.02\n",
      "Min loss 0.01\n",
      "Min loss 0.01\n",
      "Min loss 0.01\n",
      "Min loss 0.01\n",
      "Min loss 0.01\n",
      "Min loss 0.01\n",
      "Min loss 0.01\n",
      "Min loss 0.00\n",
      "Min loss 0.00\n",
      "Min loss 0.00\n",
      "Epoch: 2/2, Test acc: 97.47, Train acc: 99.95\n"
     ]
    },
    {
     "data": {
      "image/png": "[encoded data removed]",
      "text/plain": [
       "<Figure size 640x480 with 1 Axes>"
      ]
     },
     "metadata": {},
     "output_type": "display_data"
    }
   ],
   "source": [
    "loss_epoch_arr = []\n",
    "max_epochs = 2\n",
    "min_loss = 1000\n",
    "n_iters = np.ceil(50000/batch_size)\n",
    "for epoch in range(max_epochs):\n",
    "    epoch_loss = 0\n",
    "    for i, data in enumerate(trainloader, 0):\n",
    "        inputs, labels = data\n",
    "        inputs, labels = inputs.to(device), labels.to(device)\n",
    "        opt.zero_grad()\n",
    "        model.train()\n",
    "        outputs = model(inputs)\n",
    "        loss = loss_fn(outputs, labels)\n",
    "        loss.backward()\n",
    "        opt.step()\n",
    "        \n",
    "        # Avaliação do modelo dentro do loop de treinamento\n",
    "        if min_loss > loss.item():\n",
    "            min_loss = loss.item()\n",
    "            best_model = copy.deepcopy(model.state_dict())\n",
    "            print('Min loss %0.2f' % min_loss)\n",
    "        \n",
    "        if i % 100 == 0:\n",
    "            print('Iteration: %d/%d, Loss: %0.2f' % (i, n_iters, loss.item()))\n",
    "        \n",
    "        epoch_loss += loss.item()\n",
    "        \n",
    "        del inputs, labels, outputs\n",
    "        torch.cuda.empty_cache()\n",
    "    \n",
    "    avg_epoch_loss = epoch_loss / len(trainloader)\n",
    "    loss_epoch_arr.append(avg_epoch_loss)\n",
    "    \n",
    "    # Avaliação do modelo no final de cada época\n",
    "    with torch.no_grad():\n",
    "        model.eval()\n",
    "        test_acc = evaluation(testloader)\n",
    "        train_acc = evaluation(trainloader)\n",
    "        print('Epoch: %d/%d, Test acc: %0.2f, Train acc: %0.2f' % (\n",
    "            epoch+1, max_epochs, test_acc, train_acc))\n",
    "\n",
    "    \n",
    "# Plotar a curva de perda\n",
    "plt.plot(loss_epoch_arr)\n",
    "plt.xlabel('Epochs')\n",
    "plt.ylabel('Loss')\n",
    "plt.title('Loss vs Epochs')\n",
    "plt.show()"
   ]
  },
  {
   "cell_type": "code",
   "execution_count": 332,
   "metadata": {
    "execution": {
     "iopub.execute_input": "2020-08-07T09:18:37.223638Z",
     "iopub.status.busy": "2020-08-07T09:18:37.222576Z",
     "iopub.status.idle": "2020-08-07T09:25:23.968054Z",
     "shell.execute_reply": "2020-08-07T09:25:23.969526Z"
    },
    "papermill": {
     "duration": 406.979047,
     "end_time": "2020-08-07T09:25:23.969902",
     "exception": false,
     "start_time": "2020-08-07T09:18:36.990855",
     "status": "completed"
    },
    "tags": []
   },
   "outputs": [
    {
     "name": "stdout",
     "output_type": "stream",
     "text": [
      "99.96093139553055 98.4331797235023\n"
     ]
    }
   ],
   "source": [
    "model.load_state_dict(best_model)\n",
    "print(evaluation(trainloader), evaluation(testloader))"
   ]
  },
  {
   "cell_type": "code",
   "execution_count": 339,
   "metadata": {
    "execution": {
     "iopub.execute_input": "2020-08-07T09:25:24.591759Z",
     "iopub.status.busy": "2020-08-07T09:25:24.590782Z",
     "iopub.status.idle": "2020-08-07T09:25:24.872884Z",
     "shell.execute_reply": "2020-08-07T09:25:24.873474Z"
    },
    "papermill": {
     "duration": 0.51884,
     "end_time": "2020-08-07T09:25:24.873629",
     "exception": false,
     "start_time": "2020-08-07T09:25:24.354789",
     "status": "completed"
    },
    "tags": []
   },
   "outputs": [
    {
     "name": "stderr",
     "output_type": "stream",
     "text": [
      "Clipping input data to the valid range for imshow with RGB data ([0..1] for floats or [0..255] for integers).\n"
     ]
    },
    {
     "data": {
      "image/png": "[encoded data removed]",
      "text/plain": [
       "<Figure size 640x480 with 1 Axes>"
      ]
     },
     "metadata": {},
     "output_type": "display_data"
    },
    {
     "name": "stdout",
     "output_type": "stream",
     "text": [
      "Classe\n",
      "Maçã vermelha 3\n",
      "Previsão\n",
      "Maçã vermelha 3\n"
     ]
    }
   ],
   "source": [
    "dataiter = iter(testloader)\n",
    "images, labels = next(dataiter)\n",
    "def imshow(img):\n",
    "    npimg = img.numpy()\n",
    "    plt.imshow(np.transpose(npimg, (1, 2, 0)))\n",
    "    plt.axis('off')\n",
    "    plt.show()\n",
    "imshow(torchvision.utils.make_grid(images[:1]))\n",
    "print(\"Classe\")\n",
    "print(' '.join(classes_train[labels[j]] for j in range(1)))\n",
    "images = images.to(device)\n",
    "outputs = model(images)\n",
    "max_values, pred_class = torch.max(outputs.data, 1)\n",
    "print(\"Previsão\")\n",
    "print(' '.join(classes_train[pred_class[j]] for j in range(1)))"
   ]
  },
  {
   "cell_type": "code",
   "execution_count": 340,
   "metadata": {},
   "outputs": [
    {
     "name": "stdout",
     "output_type": "stream",
     "text": [
      "Model saved as best_model.pth\n"
     ]
    }
   ],
   "source": [
    "# Saving the state dictionary of the best model\n",
    "torch.save(best_model, 'modelo_frutas.pth')\n",
    "print(\"Model saved as best_model.pth\")\n"
   ]
  }
 ],
 "metadata": {
  "kernelspec": {
   "display_name": "Python 3",
   "language": "python",
   "name": "python3"
  },
  "language_info": {
   "codemirror_mode": {
    "name": "ipython",
    "version": 3
   },
   "file_extension": ".py",
   "mimetype": "text/x-python",
   "name": "python",
   "nbconvert_exporter": "python",
   "pygments_lexer": "ipython3",
   "version": "3.11.7"
  },
  "papermill": {
   "duration": 2024.10038,
   "end_time": "2020-08-07T09:25:25.508140",
   "environment_variables": {},
   "exception": null,
   "input_path": "__notebook__.ipynb",
   "output_path": "__notebook__.ipynb",
   "parameters": {},
   "start_time": "2020-08-07T08:51:41.407760",
   "version": "2.1.0"
  },
  "widgets": {
   "application/vnd.jupyter.widget-state+json": {
    "state": {
     "040ce15023c64033bb72c56b7e81e48a": {
      "model_module": "@jupyter-widgets/base",
      "model_module_version": "1.2.0",
      "model_name": "LayoutModel",
      "state": {
       "_model_module": "@jupyter-widgets/base",
       "_model_module_version": "1.2.0",
       "_model_name": "LayoutModel",
       "_view_count": null,
       "_view_module": "@jupyter-widgets/base",
       "_view_module_version": "1.2.0",
       "_view_name": "LayoutView",
       "align_content": null,
       "align_items": null,
       "align_self": null,
       "border": null,
       "bottom": null,
       "display": null,
       "flex": null,
       "flex_flow": null,
       "grid_area": null,
       "grid_auto_columns": null,
       "grid_auto_flow": null,
       "grid_auto_rows": null,
       "grid_column": null,
       "grid_gap": null,
       "grid_row": null,
       "grid_template_areas": null,
       "grid_template_columns": null,
       "grid_template_rows": null,
       "height": null,
       "justify_content": null,
       "justify_items": null,
       "left": null,
       "margin": null,
       "max_height": null,
       "max_width": null,
       "min_height": null,
       "min_width": null,
       "object_fit": null,
       "object_position": null,
       "order": null,
       "overflow": null,
       "overflow_x": null,
       "overflow_y": null,
       "padding": null,
       "right": null,
       "top": null,
       "visibility": null,
       "width": null
      }
     },
     "2f02cde3aa054caca0f62b8129a3fb36": {
      "model_module": "@jupyter-widgets/base",
      "model_module_version": "1.2.0",
      "model_name": "LayoutModel",
      "state": {
       "_model_module": "@jupyter-widgets/base",
       "_model_module_version": "1.2.0",
       "_model_name": "LayoutModel",
       "_view_count": null,
       "_view_module": "@jupyter-widgets/base",
       "_view_module_version": "1.2.0",
       "_view_name": "LayoutView",
       "align_content": null,
       "align_items": null,
       "align_self": null,
       "border": null,
       "bottom": null,
       "display": null,
       "flex": null,
       "flex_flow": null,
       "grid_area": null,
       "grid_auto_columns": null,
       "grid_auto_flow": null,
       "grid_auto_rows": null,
       "grid_column": null,
       "grid_gap": null,
       "grid_row": null,
       "grid_template_areas": null,
       "grid_template_columns": null,
       "grid_template_rows": null,
       "height": null,
       "justify_content": null,
       "justify_items": null,
       "left": null,
       "margin": null,
       "max_height": null,
       "max_width": null,
       "min_height": null,
       "min_width": null,
       "object_fit": null,
       "object_position": null,
       "order": null,
       "overflow": null,
       "overflow_x": null,
       "overflow_y": null,
       "padding": null,
       "right": null,
       "top": null,
       "visibility": null,
       "width": null
      }
     },
     "43c1b709c19c4b92b47d9e050c981d7f": {
      "model_module": "@jupyter-widgets/controls",
      "model_module_version": "1.5.0",
      "model_name": "HTMLModel",
      "state": {
       "_dom_classes": [],
       "_model_module": "@jupyter-widgets/controls",
       "_model_module_version": "1.5.0",
       "_model_name": "HTMLModel",
       "_view_count": null,
       "_view_module": "@jupyter-widgets/controls",
       "_view_module_version": "1.5.0",
       "_view_name": "HTMLView",
       "description": "",
       "description_tooltip": null,
       "layout": "IPY_MODEL_040ce15023c64033bb72c56b7e81e48a",
       "placeholder": "​",
       "style": "IPY_MODEL_ad92c6844b7446fdb4022041fc89b60f",
       "value": " 97.8M/97.8M [00:19&lt;00:00, 5.19MB/s]"
      }
     },
     "62730d9090154032b345de4c69c41d21": {
      "model_module": "@jupyter-widgets/controls",
      "model_module_version": "1.5.0",
      "model_name": "HBoxModel",
      "state": {
       "_dom_classes": [],
       "_model_module": "@jupyter-widgets/controls",
       "_model_module_version": "1.5.0",
       "_model_name": "HBoxModel",
       "_view_count": null,
       "_view_module": "@jupyter-widgets/controls",
       "_view_module_version": "1.5.0",
       "_view_name": "HBoxView",
       "box_style": "",
       "children": [
        "IPY_MODEL_8b2c4fd7f425465281d5ff852fd02a8d",
        "IPY_MODEL_43c1b709c19c4b92b47d9e050c981d7f"
       ],
       "layout": "IPY_MODEL_2f02cde3aa054caca0f62b8129a3fb36"
      }
     },
     "8b2c4fd7f425465281d5ff852fd02a8d": {
      "model_module": "@jupyter-widgets/controls",
      "model_module_version": "1.5.0",
      "model_name": "FloatProgressModel",
      "state": {
       "_dom_classes": [],
       "_model_module": "@jupyter-widgets/controls",
       "_model_module_version": "1.5.0",
       "_model_name": "FloatProgressModel",
       "_view_count": null,
       "_view_module": "@jupyter-widgets/controls",
       "_view_module_version": "1.5.0",
       "_view_name": "ProgressView",
       "bar_style": "success",
       "description": "100%",
       "description_tooltip": null,
       "layout": "IPY_MODEL_da48046cfc934124995da20e7097dad3",
       "max": 102502400,
       "min": 0,
       "orientation": "horizontal",
       "style": "IPY_MODEL_952f0aa078c8407abb19372dd00b36de",
       "value": 102502400
      }
     },
     "952f0aa078c8407abb19372dd00b36de": {
      "model_module": "@jupyter-widgets/controls",
      "model_module_version": "1.5.0",
      "model_name": "ProgressStyleModel",
      "state": {
       "_model_module": "@jupyter-widgets/controls",
       "_model_module_version": "1.5.0",
       "_model_name": "ProgressStyleModel",
       "_view_count": null,
       "_view_module": "@jupyter-widgets/base",
       "_view_module_version": "1.2.0",
       "_view_name": "StyleView",
       "bar_color": null,
       "description_width": "initial"
      }
     },
     "ad92c6844b7446fdb4022041fc89b60f": {
      "model_module": "@jupyter-widgets/controls",
      "model_module_version": "1.5.0",
      "model_name": "DescriptionStyleModel",
      "state": {
       "_model_module": "@jupyter-widgets/controls",
       "_model_module_version": "1.5.0",
       "_model_name": "DescriptionStyleModel",
       "_view_count": null,
       "_view_module": "@jupyter-widgets/base",
       "_view_module_version": "1.2.0",
       "_view_name": "StyleView",
       "description_width": ""
      }
     },
     "da48046cfc934124995da20e7097dad3": {
      "model_module": "@jupyter-widgets/base",
      "model_module_version": "1.2.0",
      "model_name": "LayoutModel",
      "state": {
       "_model_module": "@jupyter-widgets/base",
       "_model_module_version": "1.2.0",
       "_model_name": "LayoutModel",
       "_view_count": null,
       "_view_module": "@jupyter-widgets/base",
       "_view_module_version": "1.2.0",
       "_view_name": "LayoutView",
       "align_content": null,
       "align_items": null,
       "align_self": null,
       "border": null,
       "bottom": null,
       "display": null,
       "flex": null,
       "flex_flow": null,
       "grid_area": null,
       "grid_auto_columns": null,
       "grid_auto_flow": null,
       "grid_auto_rows": null,
       "grid_column": null,
       "grid_gap": null,
       "grid_row": null,
       "grid_template_areas": null,
       "grid_template_columns": null,
       "grid_template_rows": null,
       "height": null,
       "justify_content": null,
       "justify_items": null,
       "left": null,
       "margin": null,
       "max_height": null,
       "max_width": null,
       "min_height": null,
       "min_width": null,
       "object_fit": null,
       "object_position": null,
       "order": null,
       "overflow": null,
       "overflow_x": null,
       "overflow_y": null,
       "padding": null,
       "right": null,
       "top": null,
       "visibility": null,
       "width": null
      }
     }
    },
    "version_major": 2,
    "version_minor": 0
   }
  }
 },
 "nbformat": 4,
 "nbformat_minor": 4
}
